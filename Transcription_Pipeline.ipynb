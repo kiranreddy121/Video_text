{
  "nbformat": 4,
  "nbformat_minor": 0,
  "metadata": {
    "colab": {
      "provenance": [],
      "gpuType": "T4"
    },
    "kernelspec": {
      "name": "python3",
      "display_name": "Python 3"
    },
    "language_info": {
      "name": "python"
    },
    "accelerator": "GPU"
  },
  "cells": [
    {
      "cell_type": "code",
      "source": [
        "import os\n",
        "import uuid\n",
        "import pandas as pd\n",
        "from pathlib import Path\n",
        "from moviepy.editor import VideoFileClip\n",
        "from pydub import AudioSegment\n",
        "import whisper\n",
        "from transformers import pipeline\n",
        "\n",
        "# Load models\n",
        "asr_model = whisper.load_model(\"base\")\n",
        "sentiment_pipeline = pipeline(\"sentiment-analysis\")\n",
        "\n",
        "INPUT_DIR = \"input_files\"\n",
        "OUTPUT_DIR = \"output_data\"\n",
        "CHUNK_MS = 5000\n",
        "\n",
        "def extract_audio(video_path, audio_path):\n",
        "    video = VideoFileClip(video_path)\n",
        "    video.audio.write_audiofile(audio_path)\n",
        "\n",
        "def split_audio(audio_path):\n",
        "    audio = AudioSegment.from_file(audio_path)\n",
        "    chunks = []\n",
        "    for i in range(0, len(audio), CHUNK_MS):\n",
        "        chunk = audio[i:i+CHUNK_MS]\n",
        "        chunks.append((i / 1000.0, chunk))\n",
        "    return chunks\n",
        "\n",
        "def transcribe_chunk(chunk):\n",
        "    temp = \"temp_chunk.wav\"\n",
        "    chunk.export(temp, format=\"wav\")\n",
        "    result = asr_model.transcribe(temp)\n",
        "    os.remove(temp)\n",
        "    return result[\"text\"]\n",
        "\n",
        "def analyze_sentiment(text):\n",
        "    result = sentiment_pipeline(text)[0]\n",
        "    return result[\"label\"]\n",
        "\n",
        "def process_video(file_path):\n",
        "    base = Path(file_path).stem\n",
        "    audio_path = f\"{base}.wav\"\n",
        "    extract_audio(file_path, audio_path)\n",
        "\n",
        "    rows = []\n",
        "    for start, chunk in split_audio(audio_path):\n",
        "        text = transcribe_chunk(chunk)\n",
        "        sentiment = analyze_sentiment(text)\n",
        "        rows.append({\n",
        "            \"timestamp\": round(start, 2),\n",
        "            \"transcription\": text,\n",
        "            \"sentiment\": sentiment\n",
        "        })\n",
        "\n",
        "    os.remove(audio_path)\n",
        "    df = pd.DataFrame(rows)\n",
        "    out_path = f\"output_data/{base}_{uuid.uuid4().hex}.csv\"\n",
        "    df.to_csv(out_path, index=False)\n",
        "    print(f\" Output saved to: {out_path}\")\n",
        "\n",
        "# Run\n",
        "os.makedirs(INPUT_DIR, exist_ok=True)\n",
        "os.makedirs(OUTPUT_DIR, exist_ok=True)\n",
        "for file in os.listdir(INPUT_DIR):\n",
        "    if file.lower().endswith(('.mp4', '.mov')):\n",
        "        process_video(os.path.join(INPUT_DIR, file))\n"
      ],
      "metadata": {
        "colab": {
          "base_uri": "https://localhost:8080/"
        },
        "id": "QEjp3s89egyY",
        "outputId": "77b6e4e3-bad2-4e58-e5a8-8d3db084f00b"
      },
      "execution_count": 7,
      "outputs": [
        {
          "output_type": "stream",
          "name": "stderr",
          "text": [
            "No model was supplied, defaulted to distilbert/distilbert-base-uncased-finetuned-sst-2-english and revision 714eb0f (https://huggingface.co/distilbert/distilbert-base-uncased-finetuned-sst-2-english).\n",
            "Using a pipeline without specifying a model name and revision in production is not recommended.\n",
            "Device set to use cuda:0\n"
          ]
        },
        {
          "output_type": "stream",
          "name": "stdout",
          "text": [
            "MoviePy - Writing audio in Experimenter_CREW_999_1_All_1731617801.wav\n"
          ]
        },
        {
          "output_type": "stream",
          "name": "stderr",
          "text": []
        },
        {
          "output_type": "stream",
          "name": "stdout",
          "text": [
            "MoviePy - Done.\n"
          ]
        },
        {
          "output_type": "stream",
          "name": "stderr",
          "text": [
            "You seem to be using the pipelines sequentially on GPU. In order to maximize efficiency please use a dataset\n"
          ]
        },
        {
          "output_type": "stream",
          "name": "stdout",
          "text": [
            " Output saved to: output_data/Experimenter_CREW_999_1_All_1731617801_a9621a03c2434d9b97e1bae74397739b.csv\n"
          ]
        }
      ]
    },
    {
      "cell_type": "code",
      "source": [],
      "metadata": {
        "id": "6jYCLkg8MhYr"
      },
      "execution_count": null,
      "outputs": []
    }
  ]
}